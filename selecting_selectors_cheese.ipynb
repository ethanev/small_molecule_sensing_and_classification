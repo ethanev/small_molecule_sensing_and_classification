{
 "cells": [
  {
   "cell_type": "markdown",
   "metadata": {},
   "source": [
    "The purpose of this notebook is to look at the given set of selectors on a subset of (in this case) 3 cheeses (but this can be anything really) and find the optimal selectors to continue analysis with and collect additional data from for ML applications. <br>\n",
    "Note: a lot of the stuff was originally written when testing on water v. ethanol data...so some names refer to this...sorry!"
   ]
  },
  {
   "cell_type": "code",
   "execution_count": 1,
   "metadata": {},
   "outputs": [],
   "source": [
    "%matplotlib inline\n",
    "import os\n",
    "import itertools \n",
    "import warnings\n",
    "import random\n",
    "import numpy as np\n",
    "import matplotlib.pyplot as plt\n",
    "import pandas as pd\n",
    "from sklearn.utils import shuffle\n",
    "from sklearn.metrics import accuracy_score\n",
    "from sklearn.metrics.pairwise import euclidean_distances\n",
    "from sklearn.linear_model import LogisticRegressionCV, LogisticRegression\n",
    "from sklearn.neighbors import KNeighborsClassifier\n",
    "from sklearn.gaussian_process import GaussianProcessClassifier\n",
    "from sklearn.gaussian_process.kernels import RBF\n",
    "from sklearn.svm import SVC\n",
    "from sklearn.ensemble import RandomForestClassifier\n",
    "from sklearn.model_selection import train_test_split, cross_val_score\n",
    "from sklearn.decomposition import PCA\n",
    "from sklearn.preprocessing import StandardScaler\n",
    "from scipy.cluster.hierarchy import dendrogram, linkage\n",
    "from scipy.spatial.distance import pdist, squareform, euclidean\n",
    "pd.options.display.max_columns=100\n",
    "warnings.filterwarnings(\"ignore\", category=DeprecationWarning)\n",
    "import pickle"
   ]
  },
  {
   "cell_type": "code",
   "execution_count": 3,
   "metadata": {},
   "outputs": [],
   "source": [
    "#### IMPORTANT: there are specifically tuned values in this cell for cheese data...see below and change if needed\n",
    "# use the location of the data that has all 20 selectors\n",
    "cheese = False\n",
    "liquor = True\n",
    "if cheese:\n",
    "    norm_loc = './cheese_3_selectors_20/'\n",
    "    data = {'c01':[], 'c02':[], 'c03':[],\n",
    "            'm01':[], 'm02':[], 'm03':[],\n",
    "            'p01':[], 'p02':[], 'p03':[]}\n",
    "if liquor:\n",
    "    norm_loc = './liquor_3_selectors_20/'\n",
    "    data = {'r01':[], 'r02':[], 'r03':[],\n",
    "            'v01':[], 'v02':[], 'v03':[],\n",
    "            'w01':[], 'w02':[], 'w03':[]}\n",
    "files = os.listdir(norm_loc)\n",
    "\n",
    "# maps the column name of a excel file to the selector it came from \n",
    "mapper = {\n",
    "'A':{1:'S1', 2:'S1', 3:'S1', 4:'S1',\n",
    "     5:'S2', 6:'S2', 7:'S2', 8:'S2', \n",
    "     9:'S3', 10:'S3', 11:'S3', 12:'S3',\n",
    "     13:'S4', 14:'S4', 15:'S4', 16:'S4'},\n",
    "'B':{1:'S5', 2:'S5', 3:'S5', 4:'S5',\n",
    "     5:'S6', 6:'S6', 7:'S6', 8:'S6', \n",
    "     9:'S7', 10:'S7', 11:'S7', 12:'S7',\n",
    "     13:'S8', 14:'S8', 15:'S8', 16:'S8'},\n",
    "'C':{1:'S9', 2:'S9', 3:'S9', 4:'S9',\n",
    "     5:'S10', 6:'S10', 7:'S10', 8:'S10', \n",
    "     9:'S11', 10:'S11', 11:'S11', 12:'S11',\n",
    "     13:'S12', 14:'S12', 15:'S12', 16:'S12'},\n",
    "'D':{1:'S13', 2:'S13', 3:'S13', 4:'S13',\n",
    "     5:'S14', 6:'S14', 7:'S14', 8:'S14', \n",
    "     9:'S15', 10:'S15', 11:'S15', 12:'S15',\n",
    "     13:'S16', 14:'S16', 15:'S16', 16:'S16'},\n",
    "'E':{1:'S17', 2:'S17', 3:'S17', 4:'S17',\n",
    "     5:'S18', 6:'S18', 7:'S18', 8:'S18', \n",
    "     9:'S19', 10:'S19', 11:'S19', 12:'S19',\n",
    "     13:'S20', 14:'S20', 15:'S20', 16:'S20'}\n",
    "}\n",
    "\n",
    "# go through all files and extract the data, keeping only the first sheet for all cases. \n",
    "for f in files:\n",
    "    f = norm_loc + f\n",
    "    selector_group = f[-6]\n",
    "    # note these next values (indicies) are carefull matched to the data of interest!!! do change!!\n",
    "    if cheese:\n",
    "        if f[-14] == 'm':\n",
    "            compound = 'm' + f[-9:-7]\n",
    "        elif f[-17] == 'p':\n",
    "            compound = 'p' + f[-9:-7]\n",
    "        else:\n",
    "            compound = 'c'+f[-9:-7]\n",
    "    if liquor:\n",
    "        if f[-16] == 'w':\n",
    "            compound = 'w' + f[-9:-7]\n",
    "        elif f[-12] == 'r':\n",
    "            compound = 'r' + f[-9:-7]\n",
    "        else:\n",
    "            compound = 'v'+f[-9:-7]\n",
    "    \n",
    "    to_replace = mapper[selector_group]\n",
    "    data_set = pd.read_excel(f, sheetname=None, header=None) # need to change sheetname to sheet_name for newer pd! ie if V runs\n",
    "    for key in data_set.keys():\n",
    "        data_set[key] = data_set[key].set_index(0)\n",
    "        data_set[key] = data_set[key].rename(columns=to_replace)\n",
    "    try:    \n",
    "        data[compound].append(data_set['Sheet1']) # Currently working with just the first exposure. but with these data somewhere missing\n",
    "    except:\n",
    "        data[compound].append(data_set['Sheet2'])\n",
    "for comp in data:  \n",
    "    data[comp] = pd.concat(data[comp], axis=1)\n",
    "if cheese:\n",
    "    pickle.dump(data, open('./cheese_data.pkl','wb'))\n",
    "if liquor:\n",
    "    pickle.dump(data, open('./liquor_data.pkl','wb'))"
   ]
  },
  {
   "cell_type": "code",
   "execution_count": 3,
   "metadata": {},
   "outputs": [],
   "source": [
    "# #### IMPORTANT: there are specifically tuned values in this cell for cheese data...see below and change if needed\n",
    "# # use the location of the data that has all 20 selectors\n",
    "# norm_loc = './liquor_3_selectors_20/'\n",
    "# files = os.listdir(norm_loc)\n",
    "\n",
    "# data = {'r01':[], 'r02':[], 'r03':[],\n",
    "#         'v01':[], 'v02':[], 'v03':[],\n",
    "#         'w01':[], 'w02':[], 'w03':[]}\n",
    "# # maps the column name of a excel file to the selector it came from \n",
    "# mapper = {\n",
    "# 'A':{1:'S1', 2:'S1', 3:'S1', 4:'S1',\n",
    "#      5:'S2', 6:'S2', 7:'S2', 8:'S2', \n",
    "#      9:'S3', 10:'S3', 11:'S3', 12:'S3',\n",
    "#      13:'S4', 14:'S4', 15:'S4', 16:'S4'},\n",
    "# 'B':{1:'S5', 2:'S5', 3:'S5', 4:'S5',\n",
    "#      5:'S6', 6:'S6', 7:'S6', 8:'S6', \n",
    "#      9:'S7', 10:'S7', 11:'S7', 12:'S7',\n",
    "#      13:'S8', 14:'S8', 15:'S8', 16:'S8'},\n",
    "# 'C':{1:'S9', 2:'S9', 3:'S9', 4:'S9',\n",
    "#      5:'S10', 6:'S10', 7:'S10', 8:'S10', \n",
    "#      9:'S11', 10:'S11', 11:'S11', 12:'S11',\n",
    "#      13:'S12', 14:'S12', 15:'S12', 16:'S12'},\n",
    "# 'D':{1:'S13', 2:'S13', 3:'S13', 4:'S13',\n",
    "#      5:'S14', 6:'S14', 7:'S14', 8:'S14', \n",
    "#      9:'S15', 10:'S15', 11:'S15', 12:'S15',\n",
    "#      13:'S16', 14:'S16', 15:'S16', 16:'S16'},\n",
    "# 'E':{1:'S17', 2:'S17', 3:'S17', 4:'S17',\n",
    "#      5:'S18', 6:'S18', 7:'S18', 8:'S18', \n",
    "#      9:'S19', 10:'S19', 11:'S19', 12:'S19',\n",
    "#      13:'S20', 14:'S20', 15:'S20', 16:'S20'}\n",
    "# }\n",
    "\n",
    "# # go through all files and extract the data, keeping only the first sheet for all cases. \n",
    "# for f in files:\n",
    "#     f = norm_loc + f\n",
    "#     selector_group = f[-6]\n",
    "#     # note these next values (indicies) are carefull matched to the data of interest!!! do change!!\n",
    "#     if f[-16] == 'w':\n",
    "#         compound = 'w' + f[-9:-7]\n",
    "#     elif f[-12] == 'r':\n",
    "#         compound = 'r' + f[-9:-7]\n",
    "#     else:\n",
    "#         compound = 'v'+f[-9:-7]\n",
    "#     to_replace = mapper[selector_group]\n",
    "#     data_set = pd.read_excel(f, sheetname=None, header=None) # need to change sheetname to sheet_name for newer pd! ie if V runs\n",
    "#     for key in data_set.keys():\n",
    "#         data_set[key] = data_set[key].set_index(0)\n",
    "#         data_set[key] = data_set[key].rename(columns=to_replace)\n",
    "#     try:    \n",
    "#         data[compound].append(data_set['Sheet1']) # Currently working with just the first exposure. but with these data somewhere missing\n",
    "#     except:\n",
    "#         data[compound].append(data_set['Sheet2'])\n",
    "# for comp in data:  \n",
    "#     data[comp] = pd.concat(data[comp], axis=1)"
   ]
  },
  {
   "cell_type": "code",
   "execution_count": 4,
   "metadata": {},
   "outputs": [],
   "source": [
    "### defining the majority of the functions\n",
    "\n",
    "def get_classifier(classifier):\n",
    "    if classifier == 'LR':\n",
    "        return LogisticRegressionCV(cv=3, penalty='l1', solver='saga', n_jobs=-1)\n",
    "    elif classifier == 'RF':\n",
    "        return RandomForestClassifier(n_estimators=100, n_jobs=-1)\n",
    "    elif classifier == 'KNN':\n",
    "        return KNeighborsClassifier(n_neighbors=1, n_jobs=-1)\n",
    "    elif classifier == 'SVM': # using the default RBF kernel..\n",
    "        return SVC() \n",
    "    elif classifier == 'GP':\n",
    "        kernel = 1.0 * RBF(1.0)\n",
    "        return GaussianProcessClassifier(kernel=kernel, n_jobs=-1)\n",
    "    else:\n",
    "        print('You did not input a valid classifier, please use one of: KNN, LR or RF')\n",
    "        return\n",
    "    \n",
    "def get_majority_vote(vote_count_dict):\n",
    "    highest_count = 0\n",
    "    key_highest = None\n",
    "    shared_highest = []\n",
    "    for k,v in vote_count_dict.items():\n",
    "        if v > highest_count:\n",
    "            highest_count = v\n",
    "            key_highest = k\n",
    "            shared_highest = [(k,v)]\n",
    "        elif v == highest_count:\n",
    "            shared_highest.append((k,v))\n",
    "    if len(shared_highest) > 1:\n",
    "        rand_int = random.randint(0,len(shared_highest)-1)\n",
    "        key_highest = shared_highest[rand_int][0]\n",
    "        # get random value in 0..len(shared_highest) and use this to set the key_highest\n",
    "    return key_highest\n",
    "\n",
    "def normalize_selector(sel_data):\n",
    "    max_val = sel_data.max()\n",
    "    min_val = sel_data.min()\n",
    "    max_min = max_val - min_val\n",
    "    sel_data = (sel_data - min_val) / float(max_min)\n",
    "    return sel_data\n",
    "\n",
    "def indiv_sel_avg_all_to_all_dist(sel_mat, classes):\n",
    "    sample_num = sel_mat.shape[0]\n",
    "    class_mat_list = np.split(sel_mat, classes, axis=0)\n",
    "    all_dists = []\n",
    "    seen = []\n",
    "    for int_1, class_mat_1 in enumerate(class_mat_list):\n",
    "        for int_2, class_mat_2 in enumerate(class_mat_list):\n",
    "            if int_1 == int_2:\n",
    "                continue\n",
    "            if (int_1,int_2) in seen or (int_2,int_1) in seen:\n",
    "                continue\n",
    "            seen.append((int_1, int_2))\n",
    "            distances = euclidean_distances(class_mat_1, class_mat_2)\n",
    "            mean = distances.mean()\n",
    "            all_dists.append(mean)\n",
    "    all_distances = np.asarray(all_dists)\n",
    "    return all_distances.sum()\n",
    "\n",
    "def internal_class_dissim(sel_mat, classes):\n",
    "    sample_num = sel_mat.shape[0]\n",
    "    class_mat_list = np.split(sel_mat, classes, axis=0)\n",
    "    class_distances = []\n",
    "    for class_mat in class_mat_list:\n",
    "        distances = euclidean_distances(class_mat, class_mat)\n",
    "        distances = distances.round(5)\n",
    "        linear_mat = squareform(distances)\n",
    "        class_distances.append((linear_mat.mean(), linear_mat.std()))\n",
    "    return class_distances\n",
    "         \n",
    "def avg_all_to_all_dist(m1, m2):\n",
    "    distances = []\n",
    "    for i in range(m1.shape[0]):\n",
    "        for j in range(m2.shape[0]):\n",
    "            distances.append(euclidean(m1[i,:], m2[j,:]))\n",
    "    distances = np.asarray(distances)\n",
    "    distance_mean = distances.mean()\n",
    "    return distance_mean\n",
    "\n",
    "def dist_water_and_ethanol(selector1, selector2):\n",
    "    '''\n",
    "    currently hardcoded for the water-ethanol datasets assuming sorted input! ie ethanol first, then water\n",
    "    '''\n",
    "    ethanol_dist = avg_all_to_all_dist(selector1[:12,:], selector2[:12,:])\n",
    "    water_dist = avg_all_to_all_dist(selector1[12:,:], selector2[12:,:])\n",
    "    return water_dist, ethanol_dist"
   ]
  },
  {
   "cell_type": "code",
   "execution_count": 34,
   "metadata": {},
   "outputs": [
    {
     "name": "stdout",
     "output_type": "stream",
     "text": [
      "Norm_2019_01_31_cheddar01.xlsx\n",
      "Norm_2019_01_31_cheddar02.xlsx\n",
      "Norm_2019_01_31_cheddar03.xlsx\n",
      "Norm_2019_01_31_mahon01.xlsx\n",
      "Norm_2019_01_31_mahon02.xlsx\n",
      "Norm_2019_01_31_mahon03.xlsx\n",
      "Norm_2019_01_31_pecorino01.xlsx\n",
      "Norm_2019_01_31_pecorino02.xlsx\n",
      "Norm_2019_01_31_pecorino03.xlsx\n"
     ]
    }
   ],
   "source": [
    "### IMPORTANT: only run if you need to extract these files for the 3/5 cheese analysis with 4 selectors!! \n",
    "### These selectors came from the analysis of this notebook. \n",
    "\n",
    "# purpose of this is to extract the 4,5,6 and 20 data from each example cheese and write to a new file \n",
    "# this is for prep for use with the optimal_selector_cheese notebook\n",
    "\n",
    "\n",
    "#### DONT EVER USE WANT THE TEST SET TO BE INDEPENDENT FROM THIS!!!\n",
    "\n",
    "# for cheese in data: \n",
    "#     best_data = data[cheese][['S4', 'S5', 'S6', 'S20']]\n",
    "#     if cheese[0] == 'c':\n",
    "#         cheese_name = 'cheddar'+cheese[1:]\n",
    "#     elif cheese[0] == 'p':\n",
    "#         cheese_name = 'pecorino'+cheese[1:]\n",
    "#     elif cheese[0] == 'm':\n",
    "#         cheese_name = 'mahon'+cheese[1:]\n",
    "#     name = 'Norm_2019_01_31_{}.xlsx'.format(cheese_name)\n",
    "#     print(name)\n",
    "#     best_data.to_excel(name, header=False)"
   ]
  },
  {
   "cell_type": "markdown",
   "metadata": {},
   "source": [
    "For doing featurization on the data using tsfresh"
   ]
  },
  {
   "cell_type": "code",
   "execution_count": 5,
   "metadata": {
    "scrolled": true
   },
   "outputs": [
    {
     "name": "stderr",
     "output_type": "stream",
     "text": [
      "Feature Extraction: 100%|██████████| 20/20 [03:06<00:00,  5.15s/it]\n"
     ]
    }
   ],
   "source": [
    "from tsfresh import extract_features\n",
    "from tsfresh import select_features\n",
    "from tsfresh.utilities.dataframe_functions import impute\n",
    "import itertools\n",
    "\n",
    "# getting the data into a format for the extract_features....\n",
    "start = 300\n",
    "end = 600\n",
    "length= end-start\n",
    "selectors = [i+1 for i in range(20)]\n",
    "combined = []\n",
    "for select in selectors:\n",
    "    selector = []\n",
    "    for w in sorted(data.keys()):\n",
    "        selector_data = data[w]['S'+str(select)]\n",
    "        selector_data = selector_data.T.fillna(selector_data.mean(axis=1)).T \n",
    "        selector.append(selector_data)\n",
    "    selector = pd.concat(selector, axis=1)\n",
    "    selector = selector.values.T\n",
    "    selector = selector[:, start:end].reshape(-1,1)\n",
    "    combined.append(selector)\n",
    "combined = np.concatenate(combined, axis=1)\n",
    "time = np.asarray([i for i in range(end-start)]*36).reshape(-1,1) # 4 (replicates in a TC) * 3 repeats *3 cheese = 36\n",
    "combined = np.append(combined,time, axis=1)\n",
    "combined_df = pd.DataFrame(combined, columns=['S1','S2','S3','S4','S5','S6','S7','S8','S9','S10','S11',\n",
    "                                              'S12','S13','S14','S15','S16','S17','S18','S19','S20','time'])\n",
    "if cheese:\n",
    "    name_c = ['C1_{}'.format(i) for i in range(1,13)] # 12 examples for cheese 1\n",
    "    name_c = [[ele]*length for ele in name_c]\n",
    "    name_c = [j for i in name_c for j in i]\n",
    "    name_m = ['M1_{}'.format(i) for i in range(1,13)] # 12 examples for cheese 2\n",
    "    name_m = [[ele]*length for ele in name_m]\n",
    "    name_m = [j for i in name_m for j in i]\n",
    "    name_p = ['P1_{}'.format(i) for i in range(1,13)] # 12 examples for cheese 3\n",
    "    name_p = [[ele]*length for ele in name_p]\n",
    "    name_p = [j for i in name_p for j in i]\n",
    "    names = name_c + name_m + name_p\n",
    "if liquor:\n",
    "    name_r = ['R1_{}'.format(i) for i in range(1,13)] # 12 examples for cheese 1\n",
    "    name_r = [[ele]*length for ele in name_r]\n",
    "    name_r = [j for i in name_r for j in i]\n",
    "    name_v = ['V1_{}'.format(i) for i in range(1,13)] # 12 examples for cheese 2\n",
    "    name_v = [[ele]*length for ele in name_v]\n",
    "    name_v = [j for i in name_v for j in i]\n",
    "    name_w = ['W1_{}'.format(i) for i in range(1,13)] # 12 examples for cheese 3\n",
    "    name_w = [[ele]*length for ele in name_w]\n",
    "    name_w = [j for i in name_w for j in i]\n",
    "    names = name_r + name_v + name_w\n",
    "combined_df['id'] = names\n",
    "\n",
    "extracted_feat = extract_features(combined_df, column_id=\"id\", column_sort=\"time\", column_kind=None, column_value=None)\n",
    "impute(extracted_feat)# fill in the nan features \n",
    "if cheese:\n",
    "    pickle.dump(extracted_feat, open('./featurized_cheese.pkl', 'wb'))\n",
    "if liquor:\n",
    "    pickle.dump(extracted_feat, open('./featurized_liquor.pkl', 'wb'))\n",
    "# each selector has 794 features...can split this dataframe up and train on individuals or together..."
   ]
  },
  {
   "cell_type": "code",
   "execution_count": 45,
   "metadata": {
    "scrolled": true
   },
   "outputs": [
    {
     "name": "stdout",
     "output_type": "stream",
     "text": [
      "(36, 3176)\n"
     ]
    }
   ],
   "source": [
    "column_names = list(extracted_feat)\n",
    "new_names = []\n",
    "for col in column_names:\n",
    "    if 'S7' in col or 'S10' in col or 'S11' in col or 'S12' in col:\n",
    "        new_names.append(col)\n",
    "minextracted = extracted_feat[new_names]\n",
    "minextracted\n",
    "print(minextracted.shape)"
   ]
  },
  {
   "cell_type": "code",
   "execution_count": 52,
   "metadata": {},
   "outputs": [
    {
     "data": {
      "image/png": "[encoded data removed]",
      "text/plain": [
       "<Figure size 432x288 with 1 Axes>"
      ]
     },
     "metadata": {
      "needs_background": "light"
     },
     "output_type": "display_data"
    }
   ],
   "source": [
    "labels = np.array([[0,1,2]])\n",
    "labels = np.repeat(labels, 12, axis=1).flatten()\n",
    "\n",
    "# get just the good selectors: 7,10,11,12\n",
    "\n",
    "\n",
    "ss = StandardScaler()\n",
    "pca = PCA(n_components=10)\n",
    "X = ss.fit_transform(minextracted)\n",
    "X_pca = pca.fit_transform(X)\n",
    "plt.scatter(X_pca[:,0], X_pca[:,1], s=50, c=labels)\n",
    "plt.savefig('./liquor_3_selectors_20/PCA_7_10_11_12.png'.format(i))\n",
    "# plt.gcf().clear()\n",
    "plt.show()"
   ]
  },
  {
   "cell_type": "code",
   "execution_count": 8,
   "metadata": {},
   "outputs": [],
   "source": [
    "    ##### FIRST KEY METHOD FOR FINDING SELECTORS ######\n",
    "\n",
    "    # note score is an accuracy!! not auc\n",
    "    classifier = 'RF'\n",
    "    labels = np.array([[0,1,2]])\n",
    "    labels = np.repeat(labels, 12, axis=1).flatten()\n",
    "    ### this select_features is a tsfresh function that im not 100% sure on how it works...so tending not to use\n",
    "    # features_filtered = select_features(extracted_feat, labels)\n",
    "\n",
    "    # ok need to get the names for the selectors and the ORDER they are in, in the dataframe..cause its not 1,2,3..20\n",
    "    selector_names = list(extracted_feat)\n",
    "    # selector_names = list(minextracted)\n",
    "    seen = []\n",
    "    for ele in selector_names:\n",
    "        if ele[:3] not in seen:\n",
    "            seen.append(ele[:3])\n",
    "        else:\n",
    "            pass\n",
    "    selector_order = [ele[:-1] if ele[-1] == '_' else ele for ele in seen]\n",
    "\n",
    "    # need to properly sort the df coming in so the blocks work! \n",
    "    if cheese:\n",
    "        name_c = ['C1_{}'.format(i) for i in range(1,13)]\n",
    "        name_m = ['M1_{}'.format(i) for i in range(1,13)]\n",
    "        name_p = ['P1_{}'.format(i) for i in range(1,13)]\n",
    "        names = name_c + name_m + name_p\n",
    "    if liquor:\n",
    "        name_r = ['R1_{}'.format(i) for i in range(1,13)]\n",
    "        name_v = ['V1_{}'.format(i) for i in range(1,13)]\n",
    "        name_w = ['W1_{}'.format(i) for i in range(1,13)]\n",
    "        names = name_r + name_v + name_w    \n",
    "    extracted_feat = extracted_feat.loc[names]\n",
    "    # minextracted = minextracted.loc[names]\n",
    "\n",
    "    # to properly do selection, going to keep the blocks of selectors together\n",
    "    blocks = [[0,1,2,3],[4,5,6,7],[8,9,10,11],[12,13,14,15],[16,17,18,19],[20,21,22,23],\n",
    "              [24,25,26,27],[28,29,30,31],[32,33,34,35]]\n",
    "    block_combos = [(0,3,6),(0,3,7),(0,3,8),(0,4,6),(0,4,7),(0,4,8),(0,5,6),(0,5,7),(0,5,8),\n",
    "                    (1,3,6),(1,3,7),(1,3,8),(1,4,6),(1,4,7),(1,4,8),(1,5,6),(1,5,7),(1,5,8),\n",
    "                    (2,3,6),(2,3,7),(2,3,8),(2,4,6),(2,4,7),(2,4,8),(2,5,6),(2,5,7),(2,5,8)]\n",
    "\n",
    "    # ok loop over selectors, then get the data from one selector, then run a repeat of 20x with shuffling of train / test and get results \n",
    "    # FOR that selector\n",
    "    accuracies = {}\n",
    "    for j, sel_name in zip(range(20),selector_order): # looping over the selectors\n",
    "        selector_accuracy = []\n",
    "        for combo in block_combos: # looping over the different blocks \n",
    "            data_combined_sh, labels_sh = extracted_feat.values, labels\n",
    "            mask_test = blocks[combo[0]]+blocks[combo[1]]+blocks[combo[2]]\n",
    "            mask_train = [i for i in range(labels.shape[0]) if i not in mask_test]\n",
    "            x_test =  data_combined_sh[mask_test,:]\n",
    "            x_train =  data_combined_sh[mask_train,:]\n",
    "            y_test = labels_sh[mask_test]\n",
    "            y_train = labels_sh[mask_train]\n",
    "            x_train, y_train = shuffle(x_train, y_train)\n",
    "            # now split up for the different selectors \n",
    "            x_train_list = np.split(x_train,20, axis=1)\n",
    "            x_test_list = np.split(x_test,20, axis=1)\n",
    "            x_tr, x_ts = x_train_list[j], x_test_list[j]\n",
    "            pred_test_combined = []\n",
    "            clf = get_classifier(classifier)\n",
    "            clf.fit(x_tr, y_train)\n",
    "            selector_accuracy.append(clf.score(x_ts, y_test))\n",
    "        selector_accuracy = np.asarray(selector_accuracy)\n",
    "        accuracies[sel_name] = ['{:.3f}+/-{:.3f}'.format(selector_accuracy.mean(), selector_accuracy.std())]\n",
    "    featurized_indiv_select_acc = pd.DataFrame.from_dict(accuracies)\n",
    "    if cheese:\n",
    "        featurized_indiv_select_acc.to_csv('./3_cheese_featurized_indiv_selector_accuracies.csv')\n",
    "    if liquor:\n",
    "        featurized_indiv_select_acc.to_csv('./3_liquor_featurized_indiv_selector_accuracies.csv')"
   ]
  },
  {
   "cell_type": "code",
   "execution_count": 39,
   "metadata": {},
   "outputs": [
    {
     "name": "stdout",
     "output_type": "stream",
     "text": [
      "the accuracy is  1.0 +/- 0.0\n"
     ]
    }
   ],
   "source": [
    "##### NOT IMPORTANT FOR FINDING USEFUL SELECTORS - JUST SHOWING THE VOTING OVER ALL SELECTORS WITH FEATURES IS GOO\n",
    "\n",
    "# just for training a model with voting from all features...it gets 1 auc...\n",
    "classifier = 'RF'\n",
    "labels = np.array([[0,1,2]])\n",
    "labels = np.repeat(labels, 12, axis=1).flatten()\n",
    "### this select_features is a tsfresh function that im not 100% sure on how it works...so tending not to use\n",
    "# features_filtered = select_features(extracted_feat, labels)\n",
    "# features_filtered.shape\n",
    "\n",
    "# data_combined_sh, labels_sh = shuffle(extracted_feat.values, labels)\n",
    "data_combined_sh, labels_sh = shuffle(minextracted.values, labels)\n",
    "x_train, x_test, y_train, y_test = train_test_split(data_combined_sh, labels_sh, test_size=0.15)\n",
    "# 20 splits due to 20 selectors!\n",
    "# x_train_list = np.split(x_train,20, axis=1)\n",
    "# x_test_list = np.split(x_test,20, axis=1)\n",
    "x_train_list = np.split(x_train,4, axis=1)\n",
    "x_test_list = np.split(x_test,4, axis=1)\n",
    "# this 794 is from the number of features each of the selectors has in the new df...might need to change\n",
    "# you can get it from the commented out code at the end of this cell...'note see above....' this chunk\n",
    "\n",
    "accuracies = []\n",
    "# for j in range(20):\n",
    "for j in range(4):\n",
    "    pred_test_combined = []\n",
    "    for x_tr, x_ts in zip(x_train_list,x_test_list):\n",
    "        clf = get_classifier(classifier)\n",
    "        clf.fit(x_tr, y_train)\n",
    "        pred_test_combined.append(clf.predict(x_ts))\n",
    "    pred_test_combined = np.concatenate(pred_test_combined)\n",
    "    pred_test_combined = pred_test_combined.reshape((-1,y_test.shape[0]))\n",
    "    combined_vote = []\n",
    "    for i in range(y_test.shape[0]):\n",
    "        unique, counts = np.unique(pred_test_combined[:,i], return_counts=True)\n",
    "        counts = dict(zip(unique, counts))\n",
    "        majority = get_majority_vote(counts)\n",
    "        combined_vote.append(majority)\n",
    "    combined_vote = np.asarray(combined_vote)\n",
    "    accuracies.append(accuracy_score(y_test, combined_vote))\n",
    "accuracies = np.asarray(accuracies)\n",
    "print('the accuracy is ', accuracies.mean(), '+/-', accuracies.std())"
   ]
  },
  {
   "cell_type": "code",
   "execution_count": 9,
   "metadata": {
    "scrolled": true
   },
   "outputs": [
    {
     "data": {
      "text/html": [
       "<div>\n",
       "<style scoped>\n",
       "    .dataframe tbody tr th:only-of-type {\n",
       "        vertical-align: middle;\n",
       "    }\n",
       "\n",
       "    .dataframe tbody tr th {\n",
       "        vertical-align: top;\n",
       "    }\n",
       "\n",
       "    .dataframe thead th {\n",
       "        text-align: right;\n",
       "    }\n",
       "</style>\n",
       "<table border=\"1\" class=\"dataframe\">\n",
       "  <thead>\n",
       "    <tr style=\"text-align: right;\">\n",
       "      <th></th>\n",
       "      <th>sel_1</th>\n",
       "      <th>sel_2</th>\n",
       "      <th>sel_3</th>\n",
       "      <th>sel_4</th>\n",
       "      <th>sel_5</th>\n",
       "      <th>sel_6</th>\n",
       "      <th>sel_7</th>\n",
       "      <th>sel_8</th>\n",
       "      <th>sel_9</th>\n",
       "      <th>sel_10</th>\n",
       "      <th>sel_11</th>\n",
       "      <th>sel_12</th>\n",
       "      <th>sel_13</th>\n",
       "      <th>sel_14</th>\n",
       "      <th>sel_15</th>\n",
       "      <th>sel_16</th>\n",
       "      <th>sel_17</th>\n",
       "      <th>sel_18</th>\n",
       "      <th>sel_19</th>\n",
       "      <th>sel_20</th>\n",
       "    </tr>\n",
       "  </thead>\n",
       "  <tbody>\n",
       "    <tr>\n",
       "      <th>0</th>\n",
       "      <td>0.380+/-0.159</td>\n",
       "      <td>0.441+/-0.187</td>\n",
       "      <td>0.358+/-0.145</td>\n",
       "      <td>0.370+/-0.159</td>\n",
       "      <td>0.213+/-0.119</td>\n",
       "      <td>0.262+/-0.087</td>\n",
       "      <td>0.620+/-0.114</td>\n",
       "      <td>0.466+/-0.138</td>\n",
       "      <td>0.460+/-0.235</td>\n",
       "      <td>0.478+/-0.200</td>\n",
       "      <td>0.549+/-0.204</td>\n",
       "      <td>0.759+/-0.176</td>\n",
       "      <td>0.167+/-0.155</td>\n",
       "      <td>0.238+/-0.158</td>\n",
       "      <td>0.389+/-0.165</td>\n",
       "      <td>0.478+/-0.151</td>\n",
       "      <td>0.222+/-0.142</td>\n",
       "      <td>0.130+/-0.107</td>\n",
       "      <td>0.136+/-0.138</td>\n",
       "      <td>0.451+/-0.140</td>\n",
       "    </tr>\n",
       "  </tbody>\n",
       "</table>\n",
       "</div>"
      ],
      "text/plain": [
       "           sel_1          sel_2          sel_3          sel_4          sel_5  \\\n",
       "0  0.380+/-0.159  0.441+/-0.187  0.358+/-0.145  0.370+/-0.159  0.213+/-0.119   \n",
       "\n",
       "           sel_6          sel_7          sel_8          sel_9         sel_10  \\\n",
       "0  0.262+/-0.087  0.620+/-0.114  0.466+/-0.138  0.460+/-0.235  0.478+/-0.200   \n",
       "\n",
       "          sel_11         sel_12         sel_13         sel_14         sel_15  \\\n",
       "0  0.549+/-0.204  0.759+/-0.176  0.167+/-0.155  0.238+/-0.158  0.389+/-0.165   \n",
       "\n",
       "          sel_16         sel_17         sel_18         sel_19         sel_20  \n",
       "0  0.478+/-0.151  0.222+/-0.142  0.130+/-0.107  0.136+/-0.138  0.451+/-0.140  "
      ]
     },
     "execution_count": 9,
     "metadata": {},
     "output_type": "execute_result"
    }
   ],
   "source": [
    "##### SECOND MAIN WAY FOR SELECTING THE SELECTORS TO CARRY ON WITH:\n",
    "##### Idea is to train models (KNN or GP etc) using a time cource-to-time course distance function then classify that way\n",
    "##### Do it selector by selector to see which has the most signal \n",
    "\n",
    "# do you want to randomly drop parts of the input and shuffle to avoid dependence between features (ie different time points\n",
    "# in a single time course)\n",
    "random_drop = False\n",
    "num_to_keep = 50\n",
    "# what time window do you want to use?\n",
    "start = 300\n",
    "end = 600\n",
    "classifier = 'KNN' # Use LR - logistic regression, RF - random forest, KNN - k-nearest neighbors, SVM - support vector machine\n",
    "# fit models on all combos of the data blocks: \n",
    "\n",
    "### CHANGE FOR 2 v 3 cheeses \n",
    "# blocks = [[0,1,2,3],[4,5,6,7],[8,9,10,11],[12,13,14,15],[16,17,18,19],[20,21,22,23]]\n",
    "# block_combos = [(0,3),(0,4),(0,5),(1,3),(1,4),(1,5),(2,3),(2,4),(2,5)]\n",
    "blocks = [[0,1,2,3],[4,5,6,7],[8,9,10,11],[12,13,14,15],[16,17,18,19],[20,21,22,23],\n",
    "          [24,25,26,27],[28,29,30,31],[32,33,34,35],[36,37,38,39],[40,41,42,43],[]]\n",
    "block_combos = [(0,3,6),(0,3,7),(0,3,8),(0,4,6),(0,4,7),(0,4,8),(0,5,6),(0,5,7),(0,5,8),\n",
    "                (1,3,6),(1,3,7),(1,3,8),(1,4,6),(1,4,7),(1,4,8),(1,5,6),(1,5,7),(1,5,8),\n",
    "                (2,3,6),(2,3,7),(2,3,8),(2,4,6),(2,4,7),(2,4,8),(2,5,6),(2,5,7),(2,5,8)]\n",
    "\n",
    "#get a array for the labels for the wines...there are four wines so four labels\n",
    "###  CHANGE FOR 2 v 3 cheeses\n",
    "# labels = np.array([[0,1]])\n",
    "labels = np.array([[0,1,2]])\n",
    "labels = np.repeat(labels, 12, axis=1).flatten()\n",
    "\n",
    "# ok now run on individual selectors for each of the blocks of train / test\n",
    "# its called a selector drop list but in reality its just the selector thats used....\n",
    "selector_drop_list = [[1],[2],[3],[4],[5],[6],[7],[8],[9],[10],[11],[12],[13],[14],[15],[16],[17],[18],[19],[20]]\n",
    "selector_acc_dict = {}\n",
    "s = 1\n",
    "for selector_list in selector_drop_list:\n",
    "    accuracies = []\n",
    "    for combo in block_combos:\n",
    "        pred_test_combined = []\n",
    "        # retrieve the selector data for the specific selector\n",
    "        for i in selector_list:\n",
    "            selector = []\n",
    "            for w in sorted(data.keys()):\n",
    "                selector_data = data[w]['S'+str(i)]\n",
    "                # In case data is missing this imputes via the mean; probably a better idea to just drop...\n",
    "                # (but the ethanol-water does not have this issue)\n",
    "                selector_data = selector_data.T.fillna(selector_data.mean(axis=1)).T \n",
    "                selector.append(selector_data)\n",
    "            selector = pd.concat(selector, axis=1)\n",
    "            selector = selector.values.T\n",
    "            selector = selector[:, start:end]\n",
    "            if random_drop:\n",
    "                rand_kept = np.random.choice(selector.shape[1], num_to_keep)\n",
    "                selector = selector[:,rand_kept]\n",
    "            #### CRITICAL TO CHANGE\n",
    "            mask_test = blocks[combo[0]]+blocks[combo[1]]+blocks[combo[2]]\n",
    "#             mask_test = blocks[combo[0]]+blocks[combo[1]]\n",
    "            mask_train = [i for i in range(labels.shape[0]) if i not in mask_test]\n",
    "            x_test = selector[mask_test,:]\n",
    "            x_train = selector[mask_train,:]\n",
    "            y_test = labels[mask_test]\n",
    "            y_train = labels[mask_train]\n",
    "            \n",
    "            clf = get_classifier(classifier)\n",
    "            x_train, y_train = shuffle(x_train, y_train)\n",
    "            clf.fit(x_train, y_train)\n",
    "            accuracies.append(clf.score(x_test, y_test))\n",
    "    accuracies = np.asarray(accuracies)\n",
    "    selector_acc_dict['sel_{}'.format(s)] = ['{:.3f}+/-{:.3f}'.format(accuracies.mean(), accuracies.std())]\n",
    "    s += 1\n",
    "featurized_indiv_select_acc = pd.DataFrame.from_dict(selector_acc_dict)\n",
    "if cheese:\n",
    "    featurized_indiv_select_acc.to_csv('./3_cheese_{}_finding_selector_accuracies.csv'.format(classifier))\n",
    "if liquor:\n",
    "    featurized_indiv_select_acc.to_csv('./3_liquor_{}_finding_selector_accuracies.csv'.format(classifier))\n",
    "featurized_indiv_select_acc    \n",
    "             \n",
    "#             pred_test_combined.append(clf.predict(x_test)) # might be better to work with probablilites... predict_proba\n",
    "#         pred_test_combined = np.concatenate(pred_test_combined)\n",
    "#         pred_test_combined = pred_test_combined.reshape((-1,y_test.shape[0]))\n",
    "#         combined_vote = []\n",
    "#         for i in range(y_test.shape[0]):\n",
    "#             unique, counts = np.unique(pred_test_combined[:,i], return_counts=True)\n",
    "#             counts = dict(zip(unique, counts))\n",
    "#             majority = get_majority_vote(counts)\n",
    "#             combined_vote.append(majority)\n",
    "#         combined_vote = np.asarray(combined_vote)\n",
    "#         accuracies.append(accuracy_score(y_test, combined_vote))\n",
    "#     accuracies = np.asarray(accuracies)\n",
    "# #     print('accuracy list:', accuracies)\n",
    "#     print('when removing selector {}, the accuracy is '.format(s), accuracies.mean(), '+/-', accuracies.std())\n",
    "#     s += 1\n",
    "    \n",
    "###### notes from trying different params:    \n",
    "    \n",
    "    # for 2 cheeses with KNN = 1\n",
    "    # S1:0.47, S2:0.54, S3:0.60, S4:0.90, S5:0.875, S6:0.92, S7:0.79, S8:0.53, S9:0.43, S10:0.81,\n",
    "    # S11:0.42, S12:0.56, S13:0.44, S14:0.19, S15:0.47, S16:0.57, S17:0.47, S18:0.46, S19:0.34, S20:0.625\n",
    "    \n",
    "    # for 3 cheeses with KNN = 1\n",
    "    # s1:0.32 s2:0.35 s3:0.52 s4:0.85 s5:0.60 s6:0.77 s7:0.64 s8:0.54 s9:0.43 s10:0.5 \n",
    "    # s11:0.26 s12:0.32 s13:0.48 s14:0.28 s15:0.45 s16:0.16 s17:0.50 s18:0.46 s19:0.33 s20: 0.75\n",
    "    # positive signal >0.4: 3,4,5,6,7,8,9,10,13,15,17,18,20\n",
    "    # positive signal >=0.5: 3,4,5,6,7,8,10,17,20\n",
    "    # positive signal >0.5: 3,4,5,6,7,8,20\n",
    "    # psotive signal >=0.6: 4,5,6,7,20\n",
    "    \n",
    "    # for GP with RBF\n",
    "    # S1:0.21, S2:0.37, S3:0.49, S4:0.84, S5:0.70, S6:0.79, S7:0.66, S8:0.59, S9:0.37, S10:0.47\n",
    "    # S11:0.26, S12:0.42, S13:0.55, S14:0.32, S15:0.5, S16:0.19, S17:0.52, S18:0.45, S19:0.29, S20:0.80"
   ]
  },
  {
   "cell_type": "code",
   "execution_count": 10,
   "metadata": {},
   "outputs": [
    {
     "data": {
      "text/html": [
       "<div>\n",
       "<style scoped>\n",
       "    .dataframe tbody tr th:only-of-type {\n",
       "        vertical-align: middle;\n",
       "    }\n",
       "\n",
       "    .dataframe tbody tr th {\n",
       "        vertical-align: top;\n",
       "    }\n",
       "\n",
       "    .dataframe thead th {\n",
       "        text-align: right;\n",
       "    }\n",
       "</style>\n",
       "<table border=\"1\" class=\"dataframe\">\n",
       "  <thead>\n",
       "    <tr style=\"text-align: right;\">\n",
       "      <th></th>\n",
       "      <th>sel_1</th>\n",
       "      <th>sel_2</th>\n",
       "      <th>sel_3</th>\n",
       "      <th>sel_4</th>\n",
       "      <th>sel_5</th>\n",
       "      <th>sel_6</th>\n",
       "      <th>sel_7</th>\n",
       "      <th>sel_8</th>\n",
       "      <th>sel_9</th>\n",
       "      <th>sel_10</th>\n",
       "      <th>sel_11</th>\n",
       "      <th>sel_12</th>\n",
       "      <th>sel_13</th>\n",
       "      <th>sel_14</th>\n",
       "      <th>sel_15</th>\n",
       "      <th>sel_16</th>\n",
       "      <th>sel_17</th>\n",
       "      <th>sel_18</th>\n",
       "      <th>sel_19</th>\n",
       "      <th>sel_20</th>\n",
       "    </tr>\n",
       "  </thead>\n",
       "  <tbody>\n",
       "    <tr>\n",
       "      <th>0</th>\n",
       "      <td>0.367+/-0.173</td>\n",
       "      <td>0.509+/-0.176</td>\n",
       "      <td>0.253+/-0.098</td>\n",
       "      <td>0.333+/-0.000</td>\n",
       "      <td>0.284+/-0.140</td>\n",
       "      <td>0.278+/-0.113</td>\n",
       "      <td>0.540+/-0.110</td>\n",
       "      <td>0.444+/-0.187</td>\n",
       "      <td>0.512+/-0.234</td>\n",
       "      <td>0.596+/-0.243</td>\n",
       "      <td>0.651+/-0.176</td>\n",
       "      <td>0.781+/-0.168</td>\n",
       "      <td>0.216+/-0.185</td>\n",
       "      <td>0.216+/-0.162</td>\n",
       "      <td>0.444+/-0.187</td>\n",
       "      <td>0.367+/-0.137</td>\n",
       "      <td>0.231+/-0.169</td>\n",
       "      <td>0.074+/-0.092</td>\n",
       "      <td>0.117+/-0.158</td>\n",
       "      <td>0.451+/-0.147</td>\n",
       "    </tr>\n",
       "  </tbody>\n",
       "</table>\n",
       "</div>"
      ],
      "text/plain": [
       "           sel_1          sel_2          sel_3          sel_4          sel_5  \\\n",
       "0  0.367+/-0.173  0.509+/-0.176  0.253+/-0.098  0.333+/-0.000  0.284+/-0.140   \n",
       "\n",
       "           sel_6          sel_7          sel_8          sel_9         sel_10  \\\n",
       "0  0.278+/-0.113  0.540+/-0.110  0.444+/-0.187  0.512+/-0.234  0.596+/-0.243   \n",
       "\n",
       "          sel_11         sel_12         sel_13         sel_14         sel_15  \\\n",
       "0  0.651+/-0.176  0.781+/-0.168  0.216+/-0.185  0.216+/-0.162  0.444+/-0.187   \n",
       "\n",
       "          sel_16         sel_17         sel_18         sel_19         sel_20  \n",
       "0  0.367+/-0.137  0.231+/-0.169  0.074+/-0.092  0.117+/-0.158  0.451+/-0.147  "
      ]
     },
     "execution_count": 10,
     "metadata": {},
     "output_type": "execute_result"
    }
   ],
   "source": [
    "# do you want to randomly drop parts of the input and shuffle to avoid dependence between features (ie different time points\n",
    "# in a single time course)\n",
    "random_drop = False\n",
    "num_to_keep = 50\n",
    "# what time window do you want to use?\n",
    "start = 300\n",
    "end = 600\n",
    "classifier = 'GP' # Use LR - logistic regression, RF - random forest, KNN - k-nearest neighbors, SVM - support vector machine\n",
    "# fit models on all combos of the data blocks: \n",
    "\n",
    "### CHANGE FOR 2 v 3 cheeses \n",
    "# blocks = [[0,1,2,3],[4,5,6,7],[8,9,10,11],[12,13,14,15],[16,17,18,19],[20,21,22,23]]\n",
    "# block_combos = [(0,3),(0,4),(0,5),(1,3),(1,4),(1,5),(2,3),(2,4),(2,5)]\n",
    "blocks = [[0,1,2,3],[4,5,6,7],[8,9,10,11],[12,13,14,15],[16,17,18,19],[20,21,22,23],\n",
    "          [24,25,26,27],[28,29,30,31],[32,33,34,35],[36,37,38,39],[40,41,42,43],[]]\n",
    "block_combos = [(0,3,6),(0,3,7),(0,3,8),(0,4,6),(0,4,7),(0,4,8),(0,5,6),(0,5,7),(0,5,8),\n",
    "                (1,3,6),(1,3,7),(1,3,8),(1,4,6),(1,4,7),(1,4,8),(1,5,6),(1,5,7),(1,5,8),\n",
    "                (2,3,6),(2,3,7),(2,3,8),(2,4,6),(2,4,7),(2,4,8),(2,5,6),(2,5,7),(2,5,8)]\n",
    "\n",
    "#get a array for the labels for the wines...there are four wines so four labels\n",
    "###  CHANGE FOR 2 v 3 cheeses\n",
    "# labels = np.array([[0,1]])\n",
    "labels = np.array([[0,1,2]])\n",
    "labels = np.repeat(labels, 12, axis=1).flatten()\n",
    "\n",
    "# ok now run on individual selectors for each of the blocks of train / test\n",
    "# its called a selector drop list but in reality its just the selector thats used....\n",
    "selector_drop_list = [[1],[2],[3],[4],[5],[6],[7],[8],[9],[10],[11],[12],[13],[14],[15],[16],[17],[18],[19],[20]]\n",
    "selector_acc_dict = {}\n",
    "s = 1\n",
    "for selector_list in selector_drop_list:\n",
    "    accuracies = []\n",
    "    for combo in block_combos:\n",
    "        pred_test_combined = []\n",
    "        # retrieve the selector data for the specific selector\n",
    "        for i in selector_list:\n",
    "            selector = []\n",
    "            for w in sorted(data.keys()):\n",
    "                selector_data = data[w]['S'+str(i)]\n",
    "                # In case data is missing this imputes via the mean; probably a better idea to just drop...\n",
    "                # (but the ethanol-water does not have this issue)\n",
    "                selector_data = selector_data.T.fillna(selector_data.mean(axis=1)).T \n",
    "                selector.append(selector_data)\n",
    "            selector = pd.concat(selector, axis=1)\n",
    "            selector = selector.values.T\n",
    "            selector = selector[:, start:end]\n",
    "            if random_drop:\n",
    "                rand_kept = np.random.choice(selector.shape[1], num_to_keep)\n",
    "                selector = selector[:,rand_kept]\n",
    "            #### CRITICAL TO CHANGE\n",
    "            mask_test = blocks[combo[0]]+blocks[combo[1]]+blocks[combo[2]]\n",
    "#             mask_test = blocks[combo[0]]+blocks[combo[1]]\n",
    "            mask_train = [i for i in range(labels.shape[0]) if i not in mask_test]\n",
    "            x_test = selector[mask_test,:]\n",
    "            x_train = selector[mask_train,:]\n",
    "            y_test = labels[mask_test]\n",
    "            y_train = labels[mask_train]\n",
    "            \n",
    "            clf = get_classifier(classifier)\n",
    "            x_train, y_train = shuffle(x_train, y_train)\n",
    "            clf.fit(x_train, y_train)\n",
    "            accuracies.append(clf.score(x_test, y_test))\n",
    "    accuracies = np.asarray(accuracies)\n",
    "    selector_acc_dict['sel_{}'.format(s)] = ['{:.3f}+/-{:.3f}'.format(accuracies.mean(), accuracies.std())]\n",
    "    s += 1\n",
    "featurized_indiv_select_acc = pd.DataFrame.from_dict(selector_acc_dict)\n",
    "if cheese:\n",
    "    featurized_indiv_select_acc.to_csv('./3_cheese_{}_finding_selector_accuracies.csv'.format(classifier))\n",
    "if liquor:\n",
    "    featurized_indiv_select_acc.to_csv('./3_liquor_{}_finding_selector_accuracies.csv'.format(classifier))\n",
    "featurized_indiv_select_acc"
   ]
  },
  {
   "cell_type": "markdown",
   "metadata": {},
   "source": [
    "This following cell is for using each selector individually with kNN, RF, lr and SVM classifiers and then using majority voting over the classifier. its more for playing around with the 'optimal' selectors from the previous cell... <br>\n",
    "NOT GOOD ML PRACTICE DONT USE IN PRODUCTION...WE ARE GETTING ADDITIONAL DATA USING THE OPTIMIZED SELECTORS"
   ]
  },
  {
   "cell_type": "code",
   "execution_count": 19,
   "metadata": {
    "scrolled": true
   },
   "outputs": [
    {
     "name": "stdout",
     "output_type": "stream",
     "text": [
      "selector list is:  [7, 11, 12]\n",
      "0.7407407407407406 +/- 0.13094570021973104\n",
      "selector list is:  [10, 11, 12]\n",
      "0.6512345679012346 +/- 0.23899334176056714\n",
      "selector list is:  [7, 10, 11, 12]\n",
      "0.7129629629629629 +/- 0.1422434397753446\n",
      "selector list is:  [17, 18, 19]\n",
      "0.16049382716049382 +/- 0.1450945589326316\n",
      "selector list is:  [7, 9, 12]\n",
      "0.6790123456790123 +/- 0.15499851270974963\n",
      "selector list is:  [7, 10, 12]\n",
      "0.6913580246913581 +/- 0.19748263300057273\n",
      "selector list is:  [7, 12, 15]\n",
      "0.6790123456790125 +/- 0.16149969693766825\n"
     ]
    }
   ],
   "source": [
    "##### NOT USED FOR OBTAINING OPTIMAL SELECTORS...its just to play around with how select ones would do\n",
    "##### (note due to small data the same data is used that was used for finding the optimal selectors...so dont use in practice)\n",
    "##### this block is for testing models using KNN etc type classifiers with select selector lists in a blocked manner\n",
    "\n",
    "# do you want to randomly drop parts of the input and shuffle to avoid dependence between features (ie different time points\n",
    "# in a single time course)\n",
    "random_drop = False\n",
    "num_to_keep = 50\n",
    "# what time window do you want to use?\n",
    "start = 300\n",
    "end = 600\n",
    "classifier = 'KNN' # Use LR - logistic regression, RF - random forest, KNN - k-nearest neighbors, SVM - support vector machine\n",
    "# fit models on all combos of the data blocks: \n",
    "# blocks = [[0,1,2,3],[4,5,6,7],[8,9,10,11],[12,13,14,15],[16,17,18,19],[20,21,22,23]]\n",
    "# block_combos = [(0,3),(0,4),(0,5),(1,3),(1,4),(1,5),(2,3),(2,4),(2,5)]\n",
    "\n",
    "blocks = [[0,1,2,3],[4,5,6,7],[8,9,10,11],[12,13,14,15],[16,17,18,19],[20,21,22,23],\n",
    "          [24,25,26,27],[28,29,30,31],[32,33,34,35]]\n",
    "block_combos = [(0,3,6),(0,3,7),(0,3,8),(0,4,6),(0,4,7),(0,4,8),(0,5,6),(0,5,7),(0,5,8),\n",
    "                (1,3,6),(1,3,7),(1,3,8),(1,4,6),(1,4,7),(1,4,8),(1,5,6),(1,5,7),(1,5,8),\n",
    "                (2,3,6),(2,3,7),(2,3,8),(2,4,6),(2,4,7),(2,4,8),(2,5,6),(2,5,7),(2,5,8)]\n",
    "\n",
    "#get a array for the labels for the wines...there are four wines so four labels\n",
    "# labels = np.array([[0,1]])\n",
    "labels = np.array([[0,1,2]])\n",
    "labels = np.repeat(labels, 12, axis=1).flatten()\n",
    "\n",
    "# selector_lists = []\n",
    "# s_list = [3,4,5,6,7,8,10,20]\n",
    "# for L in range(2, len(s_list)+1):\n",
    "#     for com in itertools.combinations(s_list,L):\n",
    "#         selector_lists.append(com)\n",
    "selector_lists = [[7, 11, 12],[10, 11, 12],[7, 10, 11, 12], [17,18, 19],[7, 9, 12], [7, 10, 12], [7,12,15]] ####### CHANGE THIS!!!!!! #######\n",
    "\n",
    "for selector_list in selector_lists:\n",
    "    print('selector list is: ', selector_list)\n",
    "    accuracies = []\n",
    "    for combo in block_combos:\n",
    "#         print('On combo: ', combo)\n",
    "        # each combo will give 20 models where each \n",
    "        pred_test_combined = []\n",
    "    #     selector_list = [3,4,5,6,7,8,10,20]\n",
    "        # 2 cheeses:\n",
    "        # 4,5,10 = 0.90 +- 0.08\n",
    "        # 4,5,6 = 0.99 +- 0.04\n",
    "        # 4,5,6,10 = 0.93 +- 0.06\n",
    "        # 4,5,6,7,10 = 0.94 +- 0.06\n",
    "        \n",
    "        # for 3 cheeses:\n",
    "        # 4,5,6 = 0.83 +- 0.09\n",
    "        # 4,6,20 = .94 +- 0.07\n",
    "        # 4,5,6,7,20 = 0.91+-0.11\n",
    "        # 3,4,5,6,7,20 = 0.89 +-0.10\n",
    "        # 4,5,6,7,8,20 = 0.88 +- 0.11\n",
    "        # 3,4,5,6,7,8,20 = 0.91 +-0.11\n",
    "        # 3,4,5,6,7,8,10,20 = 0.87 +- 0.12\n",
    "        \n",
    "        # GP:\n",
    "        # 4,6,20 = 0.95 +- 0.06\n",
    "        # 4,5,6,20 = 0.92 +- 0.07\n",
    "        # 4,5,6,7,20 = 0.93 +- 0.07\n",
    "        \n",
    "        # GP liq:\n",
    "        # [7, 11, 12] = 0.75 +/- 0.14\n",
    "        # [10, 11, 12] = 0.77 +/- 0.20\n",
    "        # [7, 10, 11, 12] = 0.78 +/- 0.17\n",
    "        # [17,18, 19] = 0.14 +/- 0.15 testing to show its actually bad \n",
    "        # [7, 9, 12] = 0.69 +/- 0.16\n",
    "        # [7, 10, 12] = 0.73 +/- 0.19\n",
    "        # [7, 12, 15] = 0.68 +/- 0.17\n",
    "        \n",
    "        # KNN liq:\n",
    "        # [7, 11, 12] = 0.74 +/- 0.13\n",
    "        # [10, 11, 12] = 0.65 +/- 0.24\n",
    "        # [7, 10, 11, 12] = 0.71 +/- 0.14\n",
    "        # [17,18, 19] = 0.16 +/- 0.15  testing to show its actually bad \n",
    "        # [7, 9, 12] = 0.68 +/- 0.15\n",
    "        # [7, 10, 12] = 0.69 +/- 0.20\n",
    "        # [7, 12, 15] = 0.68 +/- 0.16\n",
    "        \n",
    "        for i in selector_list:\n",
    "    #     for i in range(1,21):\n",
    "            selector = []\n",
    "            for w in sorted(data.keys()):\n",
    "                selector_data = data[w]['S'+str(i)]\n",
    "                # In case data is missing this imputes via the mean; probably a better idea to just drop...\n",
    "                # (but the ethanol-water does not have this issue)\n",
    "                selector_data = selector_data.T.fillna(selector_data.mean(axis=1)).T \n",
    "                selector.append(selector_data)\n",
    "            selector = pd.concat(selector, axis=1)\n",
    "            selector = selector.values.T\n",
    "            selector = selector[:, start:end]\n",
    "            if random_drop:\n",
    "                rand_kept = np.random.choice(selector.shape[1], num_to_keep)\n",
    "                selector = selector[:,rand_kept]\n",
    "            ##### CRITICAL TO CHANGE!!!!\n",
    "#             mask_test = blocks[combo[0]]+blocks[combo[1]]\n",
    "            mask_test = blocks[combo[0]]+blocks[combo[1]]+blocks[combo[2]]\n",
    "            mask_train = [i for i in range(labels.shape[0]) if i not in mask_test]\n",
    "            x_test = selector[mask_test,:]\n",
    "            x_train = selector[mask_train,:]\n",
    "            y_test = labels[mask_test]\n",
    "            y_train = labels[mask_train]\n",
    "\n",
    "            clf = get_classifier(classifier)\n",
    "            x_train, y_train = shuffle(x_train, y_train)\n",
    "            clf.fit(x_train, y_train)\n",
    "            pred_test_combined.append(clf.predict(x_test)) # might be better to work with probablilites... predict_proba\n",
    "        pred_test_combined = np.concatenate(pred_test_combined)\n",
    "        pred_test_combined = pred_test_combined.reshape((-1,y_test.shape[0]))\n",
    "        combined_vote = []\n",
    "        for i in range(y_test.shape[0]):\n",
    "            unique, counts = np.unique(pred_test_combined[:,i], return_counts=True)\n",
    "            counts = dict(zip(unique, counts))\n",
    "            majority = get_majority_vote(counts)\n",
    "            combined_vote.append(majority)\n",
    "        combined_vote = np.asarray(combined_vote)\n",
    "        accuracies.append(accuracy_score(y_test, combined_vote))\n",
    "    accuracies = np.asarray(accuracies)\n",
    "    print(accuracies.mean(), '+/-', accuracies.std())"
   ]
  },
  {
   "cell_type": "markdown",
   "metadata": {},
   "source": [
    "OK a few cute plotting boxes...showing the time courses and also calculating and visualizing the distances between time courses!"
   ]
  },
  {
   "cell_type": "code",
   "execution_count": 47,
   "metadata": {
    "scrolled": true
   },
   "outputs": [
    {
     "data": {
      "text/plain": [
       "<Figure size 432x288 with 0 Axes>"
      ]
     },
     "metadata": {},
     "output_type": "display_data"
    },
    {
     "data": {
      "text/plain": [
       "<Figure size 432x288 with 0 Axes>"
      ]
     },
     "metadata": {},
     "output_type": "display_data"
    },
    {
     "data": {
      "text/plain": [
       "<Figure size 432x288 with 0 Axes>"
      ]
     },
     "metadata": {},
     "output_type": "display_data"
    },
    {
     "data": {
      "text/plain": [
       "<Figure size 432x288 with 0 Axes>"
      ]
     },
     "metadata": {},
     "output_type": "display_data"
    },
    {
     "data": {
      "text/plain": [
       "<Figure size 432x288 with 0 Axes>"
      ]
     },
     "metadata": {},
     "output_type": "display_data"
    },
    {
     "data": {
      "text/plain": [
       "<Figure size 432x288 with 0 Axes>"
      ]
     },
     "metadata": {},
     "output_type": "display_data"
    },
    {
     "data": {
      "text/plain": [
       "<Figure size 432x288 with 0 Axes>"
      ]
     },
     "metadata": {},
     "output_type": "display_data"
    },
    {
     "data": {
      "text/plain": [
       "<Figure size 432x288 with 0 Axes>"
      ]
     },
     "metadata": {},
     "output_type": "display_data"
    },
    {
     "data": {
      "text/plain": [
       "<Figure size 432x288 with 0 Axes>"
      ]
     },
     "metadata": {},
     "output_type": "display_data"
    },
    {
     "data": {
      "text/plain": [
       "<Figure size 432x288 with 0 Axes>"
      ]
     },
     "metadata": {},
     "output_type": "display_data"
    },
    {
     "data": {
      "text/plain": [
       "<Figure size 432x288 with 0 Axes>"
      ]
     },
     "metadata": {},
     "output_type": "display_data"
    },
    {
     "data": {
      "text/plain": [
       "<Figure size 432x288 with 0 Axes>"
      ]
     },
     "metadata": {},
     "output_type": "display_data"
    },
    {
     "data": {
      "text/plain": [
       "<Figure size 432x288 with 0 Axes>"
      ]
     },
     "metadata": {},
     "output_type": "display_data"
    },
    {
     "data": {
      "text/plain": [
       "<Figure size 432x288 with 0 Axes>"
      ]
     },
     "metadata": {},
     "output_type": "display_data"
    },
    {
     "data": {
      "text/plain": [
       "<Figure size 432x288 with 0 Axes>"
      ]
     },
     "metadata": {},
     "output_type": "display_data"
    },
    {
     "data": {
      "text/plain": [
       "<Figure size 432x288 with 0 Axes>"
      ]
     },
     "metadata": {},
     "output_type": "display_data"
    },
    {
     "data": {
      "text/plain": [
       "<Figure size 432x288 with 0 Axes>"
      ]
     },
     "metadata": {},
     "output_type": "display_data"
    },
    {
     "data": {
      "text/plain": [
       "<Figure size 432x288 with 0 Axes>"
      ]
     },
     "metadata": {},
     "output_type": "display_data"
    },
    {
     "data": {
      "text/plain": [
       "<Figure size 432x288 with 0 Axes>"
      ]
     },
     "metadata": {},
     "output_type": "display_data"
    },
    {
     "data": {
      "text/plain": [
       "<Figure size 432x288 with 0 Axes>"
      ]
     },
     "metadata": {},
     "output_type": "display_data"
    }
   ],
   "source": [
    "# plot all of the data to get a feel for it. \n",
    "start = 300\n",
    "end = 600\n",
    "normalize = False\n",
    "colors = ['c','c','c','c','c','c','c','c','c','c','c','c',\n",
    "          'g','g','g','g','g','g','g','g','g','g','g','g',\n",
    "          'k','k','k','k','k','k','k','k','k','k','k','k']\n",
    "\n",
    "for i in range(1,21):\n",
    "    selector = []\n",
    "    for w in sorted(data.keys()):\n",
    "        selector.append(data[w]['S'+str(i)])\n",
    "    selector = pd.concat(selector, axis=1)\n",
    "    selector = selector.values.T\n",
    "    selector = selector[:, start:end]\n",
    "    if normalize:\n",
    "        selector = normalize_selector(selector)    \n",
    "    for j,c in enumerate(colors):\n",
    "        y = selector[j,:]\n",
    "        x = list(range(selector.shape[1]))\n",
    "        plt.scatter(x,y,c=c, linewidth=0)\n",
    "        plt.title('selector_{}'.format(i))\n",
    "    plt.savefig('./liquor_3_selectors_20/Selector_num_{}_time_course.png'.format(i))\n",
    "    plt.gcf().clear()\n",
    "    plt.show()"
   ]
  },
  {
   "cell_type": "markdown",
   "metadata": {},
   "source": [
    "The following cell is for just plotting the heatmaps of distances with an all-to-all comparision of the individual selectors"
   ]
  },
  {
   "cell_type": "code",
   "execution_count": 23,
   "metadata": {},
   "outputs": [
    {
     "name": "stdout",
     "output_type": "stream",
     "text": [
      "Selector number: 1\n"
     ]
    },
    {
     "data": {
      "text/plain": [
       "<Figure size 432x288 with 0 Axes>"
      ]
     },
     "metadata": {},
     "output_type": "display_data"
    },
    {
     "name": "stdout",
     "output_type": "stream",
     "text": [
      "Selector number: 2\n"
     ]
    },
    {
     "data": {
      "text/plain": [
       "<Figure size 432x288 with 0 Axes>"
      ]
     },
     "metadata": {},
     "output_type": "display_data"
    },
    {
     "name": "stdout",
     "output_type": "stream",
     "text": [
      "Selector number: 3\n"
     ]
    },
    {
     "data": {
      "text/plain": [
       "<Figure size 432x288 with 0 Axes>"
      ]
     },
     "metadata": {},
     "output_type": "display_data"
    },
    {
     "name": "stdout",
     "output_type": "stream",
     "text": [
      "Selector number: 4\n"
     ]
    },
    {
     "data": {
      "text/plain": [
       "<Figure size 432x288 with 0 Axes>"
      ]
     },
     "metadata": {},
     "output_type": "display_data"
    },
    {
     "name": "stdout",
     "output_type": "stream",
     "text": [
      "Selector number: 5\n"
     ]
    },
    {
     "data": {
      "text/plain": [
       "<Figure size 432x288 with 0 Axes>"
      ]
     },
     "metadata": {},
     "output_type": "display_data"
    },
    {
     "name": "stdout",
     "output_type": "stream",
     "text": [
      "Selector number: 6\n"
     ]
    },
    {
     "data": {
      "text/plain": [
       "<Figure size 432x288 with 0 Axes>"
      ]
     },
     "metadata": {},
     "output_type": "display_data"
    },
    {
     "name": "stdout",
     "output_type": "stream",
     "text": [
      "Selector number: 7\n"
     ]
    },
    {
     "data": {
      "text/plain": [
       "<Figure size 432x288 with 0 Axes>"
      ]
     },
     "metadata": {},
     "output_type": "display_data"
    },
    {
     "name": "stdout",
     "output_type": "stream",
     "text": [
      "Selector number: 8\n"
     ]
    },
    {
     "data": {
      "text/plain": [
       "<Figure size 432x288 with 0 Axes>"
      ]
     },
     "metadata": {},
     "output_type": "display_data"
    },
    {
     "name": "stdout",
     "output_type": "stream",
     "text": [
      "Selector number: 9\n"
     ]
    },
    {
     "data": {
      "text/plain": [
       "<Figure size 432x288 with 0 Axes>"
      ]
     },
     "metadata": {},
     "output_type": "display_data"
    },
    {
     "name": "stdout",
     "output_type": "stream",
     "text": [
      "Selector number: 10\n"
     ]
    },
    {
     "data": {
      "text/plain": [
       "<Figure size 432x288 with 0 Axes>"
      ]
     },
     "metadata": {},
     "output_type": "display_data"
    },
    {
     "name": "stdout",
     "output_type": "stream",
     "text": [
      "Selector number: 11\n"
     ]
    },
    {
     "data": {
      "text/plain": [
       "<Figure size 432x288 with 0 Axes>"
      ]
     },
     "metadata": {},
     "output_type": "display_data"
    },
    {
     "name": "stdout",
     "output_type": "stream",
     "text": [
      "Selector number: 12\n"
     ]
    },
    {
     "data": {
      "text/plain": [
       "<Figure size 432x288 with 0 Axes>"
      ]
     },
     "metadata": {},
     "output_type": "display_data"
    },
    {
     "name": "stdout",
     "output_type": "stream",
     "text": [
      "Selector number: 13\n"
     ]
    },
    {
     "data": {
      "text/plain": [
       "<Figure size 432x288 with 0 Axes>"
      ]
     },
     "metadata": {},
     "output_type": "display_data"
    },
    {
     "name": "stdout",
     "output_type": "stream",
     "text": [
      "Selector number: 14\n"
     ]
    },
    {
     "data": {
      "text/plain": [
       "<Figure size 432x288 with 0 Axes>"
      ]
     },
     "metadata": {},
     "output_type": "display_data"
    },
    {
     "name": "stdout",
     "output_type": "stream",
     "text": [
      "Selector number: 15\n"
     ]
    },
    {
     "data": {
      "text/plain": [
       "<Figure size 432x288 with 0 Axes>"
      ]
     },
     "metadata": {},
     "output_type": "display_data"
    },
    {
     "name": "stdout",
     "output_type": "stream",
     "text": [
      "Selector number: 16\n"
     ]
    },
    {
     "data": {
      "text/plain": [
       "<Figure size 432x288 with 0 Axes>"
      ]
     },
     "metadata": {},
     "output_type": "display_data"
    },
    {
     "name": "stdout",
     "output_type": "stream",
     "text": [
      "Selector number: 17\n"
     ]
    },
    {
     "data": {
      "text/plain": [
       "<Figure size 432x288 with 0 Axes>"
      ]
     },
     "metadata": {},
     "output_type": "display_data"
    },
    {
     "name": "stdout",
     "output_type": "stream",
     "text": [
      "Selector number: 18\n"
     ]
    },
    {
     "data": {
      "text/plain": [
       "<Figure size 432x288 with 0 Axes>"
      ]
     },
     "metadata": {},
     "output_type": "display_data"
    },
    {
     "name": "stdout",
     "output_type": "stream",
     "text": [
      "Selector number: 19\n"
     ]
    },
    {
     "data": {
      "text/plain": [
       "<Figure size 432x288 with 0 Axes>"
      ]
     },
     "metadata": {},
     "output_type": "display_data"
    },
    {
     "name": "stdout",
     "output_type": "stream",
     "text": [
      "Selector number: 20\n"
     ]
    },
    {
     "data": {
      "text/plain": [
       "<Figure size 432x288 with 0 Axes>"
      ]
     },
     "metadata": {},
     "output_type": "display_data"
    }
   ],
   "source": [
    "#### for each selector, calc distance between time courses with a euclidean distance and plot the heatmap.\n",
    "random_drop = False\n",
    "number_to_keep = 50 # how many do you want to keep?\n",
    "max_dist = 200 # cap the maximum distance in the plots so the scaling is reasonable\n",
    "# times slice to use for the distance calculation\n",
    "start = 300\n",
    "end = 600\n",
    "# make an array of the labels for the data:\n",
    "# labels = np.array([[1,2]])\n",
    "# labels = np.repeat(labels, 12, axis=1).flatten()\n",
    "labels = np.array([[1,2,3]])\n",
    "labels = np.repeat(labels, 12, axis=1).flatten()\n",
    "\n",
    "for i in range(1,21):\n",
    "    selector = []\n",
    "    for w in sorted(data.keys()):\n",
    "        selector.append(data[w]['S'+str(i)])\n",
    "    selector = pd.concat(selector, axis=1)\n",
    "    selector = selector.values.T\n",
    "    selector = selector[:, start:end]\n",
    "    if random_drop:\n",
    "        rand_kept = np.random.choice(selector.shape[1], number_to_keep)\n",
    "        selector = selector[:,rand_kept]\n",
    "\n",
    "    dist_lin = pdist(selector)\n",
    "    dist_sq = squareform(dist_lin)\n",
    "    dist_sq[dist_sq > max_dist] = max_dist\n",
    "    print('Selector number: {}'.format(i))\n",
    "    fig = plt.figure()\n",
    "    ax = fig.add_subplot(111)\n",
    "    cax = ax.matshow(dist_sq)\n",
    "    fig.colorbar(cax)\n",
    "    plt.savefig('./liquor_3_selectors_20/Selector_num_{}.png'.format(i))\n",
    "    plt.gcf().clear()\n",
    "    plt.show()\n",
    "    "
   ]
  },
  {
   "cell_type": "code",
   "execution_count": 24,
   "metadata": {
    "scrolled": false
   },
   "outputs": [
    {
     "data": {
      "image/png": "[encoded data removed]",
      "text/plain": [
       "<Figure size 432x288 with 1 Axes>"
      ]
     },
     "metadata": {
      "needs_background": "light"
     },
     "output_type": "display_data"
    }
   ],
   "source": [
    "# calculating the dissimilarity of examples of class for each selector. \n",
    "start = 300\n",
    "end = 600\n",
    "classes = 3\n",
    "\n",
    "def sel_summary(data_list): return sum([ele[0] for ele in data_list])\n",
    "\n",
    "def data_summary(data_list):\n",
    "    data_summary = []\n",
    "    for d_list in data_list:\n",
    "        data_summary.append(sel_summary(d_list))\n",
    "    return data_summary\n",
    "\n",
    "internal_class = []\n",
    "between_class = []\n",
    "labels = []\n",
    "for i in range(1,21):\n",
    "    labels.append('S'+str(i))\n",
    "    selector = []\n",
    "    for w in sorted(data.keys()):\n",
    "        selector_data = data[w]['S'+str(i)]\n",
    "        selector_data = selector_data.T.fillna(selector_data.mean(axis=1)).T \n",
    "        selector.append(selector_data)\n",
    "    selector = pd.concat(selector, axis=1)\n",
    "    selector = selector.values.T\n",
    "    selector = selector[:, start:end]\n",
    "#     selector = normalize_selector(selector)\n",
    "    # the selector matrix is a Nxdelta_t matrix\"\n",
    "    # where the first half is of cheese 1 (or ethanol) and the 2nd is cheese 2 (or water)\n",
    "    # OR \n",
    "    # if multiple cheeses its evenly split into three groups \n",
    "    between_class.append(indiv_sel_avg_all_to_all_dist(selector, classes))  \n",
    "    internal_class.append(internal_class_dissim(selector, classes))\n",
    "internal_class = data_summary(internal_class)\n",
    "ratio = np.divide(between_class,internal_class)\n",
    "# print(summary, between_class)\n",
    "ind = range(ratio.shape[0])\n",
    "fig, ax = plt.subplots()\n",
    "ax.set_xticks(ind)\n",
    "# ax.set_ylim([1,2.1])\n",
    "ax.set_xticklabels(labels, rotation=90)\n",
    "ax.set_ylabel('ratio of between to internal class dist')\n",
    "plt.bar(ind,ratio)\n",
    "plt.show()\n",
    "\n",
    "#     sel_mean, sel_std = indiv_sel_avg_all_to_all_dist(selector)\n",
    "#     all_data.append(('selector_{}'.format(i), sel_mean, sel_std))"
   ]
  },
  {
   "cell_type": "code",
   "execution_count": 30,
   "metadata": {
    "scrolled": true
   },
   "outputs": [
    {
     "ename": "TypeError",
     "evalue": "indiv_sel_avg_all_to_all_dist() missing 1 required positional argument: 'classes'",
     "output_type": "error",
     "traceback": [
      "\u001b[0;31m---------------------------------------------------------------------------\u001b[0m",
      "\u001b[0;31mTypeError\u001b[0m                                 Traceback (most recent call last)",
      "\u001b[0;32m<ipython-input-30-2444050bdb3b>\u001b[0m in \u001b[0;36m<module>\u001b[0;34m\u001b[0m\n\u001b[1;32m     19\u001b[0m     \u001b[0;31m# the selector matrix is a Nxdelta_t matrix\"\u001b[0m\u001b[0;34m\u001b[0m\u001b[0;34m\u001b[0m\u001b[0;34m\u001b[0m\u001b[0m\n\u001b[1;32m     20\u001b[0m     \u001b[0;31m# where the first half is of cheese 1 (or ethanol) and the 2nd is cheese 2 (or water)\u001b[0m\u001b[0;34m\u001b[0m\u001b[0;34m\u001b[0m\u001b[0;34m\u001b[0m\u001b[0m\n\u001b[0;32m---> 21\u001b[0;31m     \u001b[0msel_mean\u001b[0m\u001b[0;34m,\u001b[0m \u001b[0msel_std\u001b[0m \u001b[0;34m=\u001b[0m \u001b[0mindiv_sel_avg_all_to_all_dist\u001b[0m\u001b[0;34m(\u001b[0m\u001b[0mselector\u001b[0m\u001b[0;34m)\u001b[0m\u001b[0;34m\u001b[0m\u001b[0;34m\u001b[0m\u001b[0m\n\u001b[0m\u001b[1;32m     22\u001b[0m     \u001b[0mall_data\u001b[0m\u001b[0;34m.\u001b[0m\u001b[0mappend\u001b[0m\u001b[0;34m(\u001b[0m\u001b[0;34m(\u001b[0m\u001b[0;34m'selector_{}'\u001b[0m\u001b[0;34m.\u001b[0m\u001b[0mformat\u001b[0m\u001b[0;34m(\u001b[0m\u001b[0mi\u001b[0m\u001b[0;34m)\u001b[0m\u001b[0;34m,\u001b[0m \u001b[0msel_mean\u001b[0m\u001b[0;34m,\u001b[0m \u001b[0msel_std\u001b[0m\u001b[0;34m)\u001b[0m\u001b[0;34m)\u001b[0m\u001b[0;34m\u001b[0m\u001b[0;34m\u001b[0m\u001b[0m\n\u001b[1;32m     23\u001b[0m \u001b[0mmeans\u001b[0m \u001b[0;34m=\u001b[0m \u001b[0;34m[\u001b[0m\u001b[0mele\u001b[0m\u001b[0;34m[\u001b[0m\u001b[0;36m1\u001b[0m\u001b[0;34m]\u001b[0m \u001b[0;32mfor\u001b[0m \u001b[0mele\u001b[0m \u001b[0;32min\u001b[0m \u001b[0mall_data\u001b[0m\u001b[0;34m]\u001b[0m\u001b[0;34m\u001b[0m\u001b[0;34m\u001b[0m\u001b[0m\n",
      "\u001b[0;31mTypeError\u001b[0m: indiv_sel_avg_all_to_all_dist() missing 1 required positional argument: 'classes'"
     ]
    }
   ],
   "source": [
    "### POST analysis: i dont think this is a good measure for utility of a selector for the classification problem...\n",
    "\n",
    "# this cell is to look at the all combo distances between cheese 1 to cheese 2 for each of the selector individually\n",
    "# the idea is to get a measure of how informative a selector is...ie is there a different between C1 and C2?\n",
    "# might need to normalize the c1 to c2 distance for a given selector by how noisy it is internal to one cheese\n",
    "start = 300\n",
    "end = 500\n",
    "\n",
    "all_data = []\n",
    "for i in range(1,21):\n",
    "    selector = []\n",
    "    for w in sorted(data.keys()):\n",
    "        selector_data = data[w]['S'+str(i)]\n",
    "        selector_data = selector_data.T.fillna(selector_data.mean(axis=1)).T \n",
    "        selector.append(selector_data)\n",
    "    selector = pd.concat(selector, axis=1)\n",
    "    selector = selector.values.T\n",
    "    selector = selector[:, start:end]\n",
    "    # the selector matrix is a Nxdelta_t matrix\"\n",
    "    # where the first half is of cheese 1 (or ethanol) and the 2nd is cheese 2 (or water)\n",
    "    sel_mean, sel_std = indiv_sel_avg_all_to_all_dist(selector)\n",
    "    all_data.append(('selector_{}'.format(i), sel_mean, sel_std))\n",
    "means = [ele[1] for ele in all_data]\n",
    "error = [ele[2] for ele in all_data]\n",
    "ind = range(len(all_data))\n",
    "fig, ax = plt.subplots()\n",
    "ax.set_xticks(ind)\n",
    "ax.set_xticklabels([ele[0] for ele in all_data], rotation=90)\n",
    "ax.set_ylabel('average internal selector distance')\n",
    "plt.bar(ind,means, yerr=error)\n",
    "plt.show()"
   ]
  },
  {
   "cell_type": "code",
   "execution_count": 34,
   "metadata": {},
   "outputs": [
    {
     "data": {
      "image/png": "[encoded data removed]",
      "text/plain": [
       "<Figure size 432x288 with 1 Axes>"
      ]
     },
     "metadata": {
      "needs_background": "light"
     },
     "output_type": "display_data"
    },
    {
     "data": {
      "image/png": "[encoded data removed]",
      "text/plain": [
       "<Figure size 432x288 with 1 Axes>"
      ]
     },
     "metadata": {
      "needs_background": "light"
     },
     "output_type": "display_data"
    },
    {
     "data": {
      "image/png": "[encoded data removed]",
      "text/plain": [
       "<Figure size 432x288 with 1 Axes>"
      ]
     },
     "metadata": {
      "needs_background": "light"
     },
     "output_type": "display_data"
    }
   ],
   "source": [
    "#### This cell is for plotting accuracies vs various interal / between class differences\n",
    "#### use the accuracies from the various single selector run from above...sadly right now you manually put them in...lol\n",
    "\n",
    "# 2 cheeses\n",
    "# sel_acc = [0.47, 0.54, 0.60, 0.90, 0.875, 0.92, 0.79, 0.53, 0.43, 0.81, \n",
    "#            0.42, 0.56, 0.44, 0.19, 0.47,  0.57, 0.47, 0.46, 0.34, 0.625]\n",
    "# 3 cheeses\n",
    "sel_acc = [0.32, 0.35, 0.52, 0.85, 0.60, 0.77, 0.64, 0.54, 0.43, 0.5,\n",
    "            0.26, 0.32, 0.48,0.28,0.45,0.16,0.50,0.46,0.33,0.75]\n",
    "sel_labels = ['S1', 'S2', 'S3', 'S4', 'S5', 'S6', 'S7', 'S8', 'S9', 'S10',\n",
    "              'S11', 'S12', 'S13', 'S14', 'S15', 'S16', 'S17', 'S18', 'S19', 'S20']\n",
    "\n",
    "# plt.scatter(means, sel_acc)\n",
    "plt.scatter(internal_class, sel_acc)\n",
    "plt.ylabel('selector accuracy')\n",
    "plt.xlabel('average class-to-class distance, internal to selector')\n",
    "for i, label in enumerate(sel_labels):\n",
    "    plt.annotate(label, (internal_class[i]+1, sel_acc[i]+0.02))\n",
    "plt.savefig('./average_class-to-class_distance-internal_to_selector.png')\n",
    "plt.show()\n",
    "plt.gcf().clear()\n",
    "\n",
    "# plt.scatter(means, sel_acc)\n",
    "plt.scatter(between_class, sel_acc)\n",
    "plt.ylabel('selector accuracy')\n",
    "plt.xlabel('sum internal class variation')\n",
    "for i, label in enumerate(sel_labels):\n",
    "    plt.annotate(label, (between_class[i]+1, sel_acc[i]+0.02))\n",
    "plt.savefig('./sum_internal_class_variation.png')\n",
    "plt.show()\n",
    "plt.gcf().clear()\n",
    "\n",
    "# plt.scatter(means, sel_acc)\n",
    "plt.scatter(ratio, sel_acc)\n",
    "plt.ylabel('selector accuracy')\n",
    "plt.xlabel('ratio avg-class-to-class distance relative to internal class variability')\n",
    "for i, label in enumerate(sel_labels):\n",
    "    plt.annotate(label, (ratio[i]+0.01, sel_acc[i]+0.02))\n",
    "plt.savefig('./ratio_class-to-class_v_internal_to_class.png')\n",
    "plt.show()"
   ]
  }
 ],
 "metadata": {
  "kernelspec": {
   "display_name": "Python 3",
   "language": "python",
   "name": "python3"
  },
  "language_info": {
   "codemirror_mode": {
    "name": "ipython",
    "version": 3
   },
   "file_extension": ".py",
   "mimetype": "text/x-python",
   "name": "python",
   "nbconvert_exporter": "python",
   "pygments_lexer": "ipython3",
   "version": "3.6.6"
  }
 },
 "nbformat": 4,
 "nbformat_minor": 1
}
