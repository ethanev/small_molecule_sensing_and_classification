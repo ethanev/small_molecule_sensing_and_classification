{
 "cells": [
  {
   "cell_type": "code",
   "execution_count": 1,
   "metadata": {},
   "outputs": [],
   "source": [
    "import os\n",
    "import pickle\n",
    "import pandas as pd\n",
    "import numpy as np\n",
    "import matplotlib.pyplot as plt\n",
    "from scipy.cluster.hierarchy import dendrogram, linkage\n",
    "from scipy.spatial.distance import pdist, squareform"
   ]
  },
  {
   "cell_type": "code",
   "execution_count": 2,
   "metadata": {},
   "outputs": [],
   "source": [
    "path = './selector_scan/oil_3_selectors/'\n",
    "files = os.listdir(path)\n",
    "GP = {}\n",
    "KNN = {}\n",
    "features = {}\n",
    "for f in files:\n",
    "    data = pickle.load(open(path+f, 'rb'))\n",
    "#     GP = {**data['GP'], **GP}\n",
    "    KNN = {**data['KNN'], **KNN}\n",
    "    features = {**data['features'], **features}"
   ]
  },
  {
   "cell_type": "code",
   "execution_count": 3,
   "metadata": {},
   "outputs": [],
   "source": [
    "# GP_list = [(v[0],v[1],k) for k,v in GP.items()]\n",
    "KNN_list = [(v[0],v[1],k) for k,v in KNN.items()]\n",
    "features_list = [(v[0],v[1],k) for k,v in features.items()]\n"
   ]
  },
  {
   "cell_type": "code",
   "execution_count": 4,
   "metadata": {},
   "outputs": [],
   "source": [
    "# GP_list = sorted(GP_list, key=lambda x: x[0], reverse=True)\n",
    "KNN_list = sorted(KNN_list, key=lambda x: x[0], reverse=True)\n",
    "features_list = sorted(features_list, key=lambda x: x[0], reverse=True)"
   ]
  },
  {
   "cell_type": "code",
   "execution_count": 5,
   "metadata": {},
   "outputs": [],
   "source": [
    "# GP_df = pd.DataFrame(GP_list, columns=['accuracy','standard_deviation', 'selectors'])\n",
    "# GP_df.to_csv(path+'GP_selector_results.csv')\n",
    "KNN_df = pd.DataFrame(KNN_list, columns=['accuracy','standard_deviation', 'selectors'])\n",
    "KNN_df.to_csv(path+'KNN_selector_results.csv')\n",
    "features_df = pd.DataFrame(features_list, columns=['accuracy','standard_deviation', 'selectors'])\n",
    "features_df.to_csv(path+'features_selector_results.csv')"
   ]
  },
  {
   "cell_type": "code",
   "execution_count": 6,
   "metadata": {
    "scrolled": true
   },
   "outputs": [
    {
     "data": {
      "image/png": "[encoded data removed]",
      "text/plain": [
       "<Figure size 432x288 with 1 Axes>"
      ]
     },
     "metadata": {
      "needs_background": "light"
     },
     "output_type": "display_data"
    },
    {
     "data": {
      "image/png": "[encoded data removed]",
      "text/plain": [
       "<Figure size 432x288 with 1 Axes>"
      ]
     },
     "metadata": {
      "needs_background": "light"
     },
     "output_type": "display_data"
    },
    {
     "data": {
      "text/plain": [
       "<Figure size 432x288 with 0 Axes>"
      ]
     },
     "metadata": {},
     "output_type": "display_data"
    }
   ],
   "source": [
    "def plot_heatmap(selector_list, save=False, name=None):\n",
    "    acc_list = [ele[0] for ele in selector_list]\n",
    "#     dist_lin = pdist(selector)\n",
    "    dist_sq = squareform(acc_list)\n",
    "    fig = plt.figure()\n",
    "    ax = fig.add_subplot(111)\n",
    "    cax = ax.matshow(dist_sq)\n",
    "    fig.colorbar(cax)\n",
    "    if save:\n",
    "        plt.savefig(path+name+'.png')\n",
    "\n",
    "def plot_bar(selector_list, title, sub_set=False, sub_set_val=0, save=False):\n",
    "    acc_list = [ele[0] for ele in selector_list]\n",
    "    errors = [ele[1] for ele in selector_list]\n",
    "    names = [ele[2] for ele in selector_list]\n",
    "    if sub_set:\n",
    "        title = title+'_'+str(sub_set_val)\n",
    "        acc_list = acc_list[:sub_set_val]\n",
    "        errors = errors[:sub_set_val]\n",
    "        names = names[:sub_set_val]\n",
    "    xs = [i for i in range(len(acc_list))]\n",
    "    plt.bar(xs, acc_list, yerr=errors, width=0.5)\n",
    "    ax = plt.gca()\n",
    "    plt.title(title)\n",
    "    ax.set_ylim([0.2,1])\n",
    "    plt.xticks([i for i in range(len(acc_list))], names, rotation=90)\n",
    "    plt.tight_layout()\n",
    "    if save:\n",
    "        plt.savefig(path+title+'.png')\n",
    "    plt.show()\n",
    "    plt.gcf().clear()\n",
    "    \n",
    "plot_bar(features_list, 'Features_selectors', sub_set=True, sub_set_val=20, save=True)\n",
    "# plot_bar(GP_list, 'GP_selectors', sub_set=True, sub_set_val=20, save=True)\n",
    "plot_bar(KNN_list, 'KNN_selectors', sub_set=True, sub_set_val=20, save=True)"
   ]
  },
  {
   "cell_type": "code",
   "execution_count": 8,
   "metadata": {
    "scrolled": true
   },
   "outputs": [
    {
     "ename": "NameError",
     "evalue": "name 'across_classifiers' is not defined",
     "output_type": "error",
     "traceback": [
      "\u001b[0;31m---------------------------------------------------------------------------\u001b[0m",
      "\u001b[0;31mNameError\u001b[0m                                 Traceback (most recent call last)",
      "\u001b[0;32m<ipython-input-8-2e3db0d9f72a>\u001b[0m in \u001b[0;36m<module>\u001b[0;34m\u001b[0m\n\u001b[1;32m      1\u001b[0m \u001b[0;31m# across_classifiers = {name[2]:[i] for i,name in enumerate(GP_list)}\u001b[0m\u001b[0;34m\u001b[0m\u001b[0;34m\u001b[0m\u001b[0m\n\u001b[1;32m      2\u001b[0m \u001b[0;32mfor\u001b[0m \u001b[0mi\u001b[0m\u001b[0;34m,\u001b[0m \u001b[0mname\u001b[0m \u001b[0;32min\u001b[0m \u001b[0menumerate\u001b[0m\u001b[0;34m(\u001b[0m\u001b[0mKNN_list\u001b[0m\u001b[0;34m)\u001b[0m\u001b[0;34m:\u001b[0m\u001b[0;34m\u001b[0m\u001b[0m\n\u001b[0;32m----> 3\u001b[0;31m     \u001b[0macross_classifiers\u001b[0m\u001b[0;34m[\u001b[0m\u001b[0mname\u001b[0m\u001b[0;34m[\u001b[0m\u001b[0;36m2\u001b[0m\u001b[0;34m]\u001b[0m\u001b[0;34m]\u001b[0m\u001b[0;34m.\u001b[0m\u001b[0mappend\u001b[0m\u001b[0;34m(\u001b[0m\u001b[0mi\u001b[0m\u001b[0;34m)\u001b[0m\u001b[0;34m\u001b[0m\u001b[0m\n\u001b[0m\u001b[1;32m      4\u001b[0m \u001b[0;32mfor\u001b[0m \u001b[0mi\u001b[0m\u001b[0;34m,\u001b[0m \u001b[0mname\u001b[0m \u001b[0;32min\u001b[0m \u001b[0menumerate\u001b[0m\u001b[0;34m(\u001b[0m\u001b[0mfeatures_list\u001b[0m\u001b[0;34m)\u001b[0m\u001b[0;34m:\u001b[0m\u001b[0;34m\u001b[0m\u001b[0m\n\u001b[1;32m      5\u001b[0m     \u001b[0macross_classifiers\u001b[0m\u001b[0;34m[\u001b[0m\u001b[0mname\u001b[0m\u001b[0;34m[\u001b[0m\u001b[0;36m2\u001b[0m\u001b[0;34m]\u001b[0m\u001b[0;34m]\u001b[0m\u001b[0;34m.\u001b[0m\u001b[0mappend\u001b[0m\u001b[0;34m(\u001b[0m\u001b[0mi\u001b[0m\u001b[0;34m)\u001b[0m\u001b[0;34m\u001b[0m\u001b[0m\n",
      "\u001b[0;31mNameError\u001b[0m: name 'across_classifiers' is not defined"
     ]
    }
   ],
   "source": [
    "across_classifiers = {name[2]:[i] for i,name in enumerate(GP_list)}\n",
    "for i, name in enumerate(KNN_list):\n",
    "    across_classifiers[name[2]].append(i)\n",
    "for i, name in enumerate(features_list):\n",
    "    across_classifiers[name[2]].append(i)\n",
    "score_selectors = {(sum(across_classifiers[ele]),ele) for ele in across_classifiers}\n",
    "score_selectors = sorted(score_selectors, key=lambda x: x[0])\n",
    "\n",
    "\n",
    "ranksum_df = pd.DataFrame({'selector_combo':[s[1] for s in score_selectors],'rank_sum':[s[0] for s in score_selectors]})\n",
    "ranksum_df.to_csv(path+'rank_sum_results.csv')\n",
    "\n",
    "length = 20\n",
    "xs = [i for i in range(length)]\n",
    "value_names = score_selectors[:length]\n",
    "values = [sel[0] for sel in value_names]\n",
    "names = [sel[1] for sel in value_names]\n",
    "plt.bar(xs, values, width=0.5)\n",
    "plt.title('lowest rank-sum selectors')\n",
    "plt.xticks(xs, names, rotation=90)\n",
    "plt.tight_layout()\n",
    "plt.savefig(path+'lowest_rank_sum_5_selectors_3_cheese.png')\n",
    "plt.show()"
   ]
  },
  {
   "cell_type": "code",
   "execution_count": 10,
   "metadata": {
    "scrolled": true
   },
   "outputs": [
    {
     "name": "stdout",
     "output_type": "stream",
     "text": [
      "15504\n"
     ]
    },
    {
     "data": {
      "text/plain": [
       "<Figure size 144x144 with 0 Axes>"
      ]
     },
     "metadata": {},
     "output_type": "display_data"
    },
    {
     "data": {
      "image/png": "[encoded data removed]",
      "text/plain": [
       "<Figure size 288x288 with 2 Axes>"
      ]
     },
     "metadata": {
      "needs_background": "light"
     },
     "output_type": "display_data"
    }
   ],
   "source": [
    "# [[0,0],[0,1],[1,0],[2,0],[1,1],[0,2],[3,0][2,1],[1,2],[0,3]]\n",
    "# import itertools\n",
    "# list(itertools.permutations([1,0]))\n",
    "from itertools import product\n",
    "import numpy as np\n",
    "import matplotlib.pyplot as plt\n",
    "matrix_size= 124 # 70 for the 4 selectors, 34 for the 3 selectors\n",
    "indicies = list(product(range(matrix_size), repeat=2))\n",
    "indicies = sorted(indicies, key=lambda x:x[0]+x[1])\n",
    "sorted_mat = np.zeros((matrix_size,matrix_size))\n",
    "\n",
    "\n",
    "features_acc = [ele[0] for ele in features_list]\n",
    "features_acc = sorted(features_acc)\n",
    "print(len(features_acc))\n",
    "#1156 is a 34 x 34 matrix so pad with 16 zeros\n",
    "# zeroes = [0 for i in range(16)]\n",
    "zeroes = [features_acc[0] for i in range(55)]\n",
    "\n",
    "features_acc = zeroes + features_acc\n",
    "fig = plt.figure(figsize=(2,2))\n",
    "for ele, index in zip(features_acc, indicies):\n",
    "    sorted_mat[index] = ele\n",
    "plt.matshow(sorted_mat)\n",
    "plt.colorbar()\n",
    "title = '5_cheese_diag_sorted_matrix_selectors'\n",
    "plt.savefig(path+title+'.png')\n",
    "plt.show()\n",
    "\n",
    "\n"
   ]
  },
  {
   "cell_type": "code",
   "execution_count": null,
   "metadata": {},
   "outputs": [],
   "source": []
  }
 ],
 "metadata": {
  "kernelspec": {
   "display_name": "Python 3",
   "language": "python",
   "name": "python3"
  },
  "language_info": {
   "codemirror_mode": {
    "name": "ipython",
    "version": 3
   },
   "file_extension": ".py",
   "mimetype": "text/x-python",
   "name": "python",
   "nbconvert_exporter": "python",
   "pygments_lexer": "ipython3",
   "version": "3.6.6"
  }
 },
 "nbformat": 4,
 "nbformat_minor": 2
}
